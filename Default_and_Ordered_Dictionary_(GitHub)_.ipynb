{
  "nbformat": 4,
  "nbformat_minor": 0,
  "metadata": {
    "colab": {
      "name": "Default and Ordered Dictionary (GitHub) .ipynb",
      "provenance": [],
      "authorship_tag": "ABX9TyNlYRX6jvUPfMt8ULTwQGcG",
      "include_colab_link": true
    },
    "kernelspec": {
      "name": "python3",
      "display_name": "Python 3"
    }
  },
  "cells": [
    {
      "cell_type": "markdown",
      "metadata": {
        "id": "view-in-github",
        "colab_type": "text"
      },
      "source": [
        "<a href=\"https://colab.research.google.com/github/ShivanshGupta1/Default-and-Ordered-Dictionary/blob/main/Default_and_Ordered_Dictionary_(GitHub)_.ipynb\" target=\"_parent\"><img src=\"https://colab.research.google.com/assets/colab-badge.svg\" alt=\"Open In Colab\"/></a>"
      ]
    },
    {
      "cell_type": "code",
      "metadata": {
        "colab": {
          "base_uri": "https://localhost:8080/"
        },
        "id": "-Yt1TLqPj2xZ",
        "outputId": "5ccbe88a-1712-4828-ecd1-ee3aafef0964"
      },
      "source": [
        "q#Default Dictionary is another class, that is almost the same as a dictionary\n",
        "from collections import defaultdict #importing\n",
        "any = defaultdict(int)#using the constructor and specifying data type\n",
        "any[\"Shivansh\"]=12#Can be integer\n",
        "any[\"Vivaan\"]=13\n",
        "any[\"Kanishk\"]=13\n",
        "any[\"Sahib\"]=\"Sahib\"#Can be strings\n",
        "print(any)#printing"
      ],
      "execution_count": null,
      "outputs": [
        {
          "output_type": "stream",
          "text": [
            "defaultdict(<class 'int'>, {'Shivansh': 12, 'Vivaan': 13, 'Kanishk': 13})\n"
          ],
          "name": "stdout"
        }
      ]
    },
    {
      "cell_type": "code",
      "metadata": {
        "colab": {
          "base_uri": "https://localhost:8080/"
        },
        "id": "kF-VRROWkXH-",
        "outputId": "1fbb73cb-6711-4a47-9060-685188f3961d"
      },
      "source": [
        "from collections import defaultdict\n",
        "colourList = [(\"Colour\",\"Red\"),(\"Colour\",\"Blue\"),(\"Colour\",\"Green\"),(\"Colour\",\"Yellow\")]#A list with tupples storing colour as key and colour names as values\n",
        "myColourDict = defaultdict(list)#Creating our default dict with list \n",
        "for key,value in colourList:#Running the loop\n",
        "  myColourDict[key].append(value)#For each key element in the list append the value in it (for making it a list)\n",
        "print(myColourDict)#Printing it"
      ],
      "execution_count": null,
      "outputs": [
        {
          "output_type": "stream",
          "text": [
            "defaultdict(<class 'list'>, {'Colour': ['Red', 'Blue', 'Green', 'Yellow']})\n"
          ],
          "name": "stdout"
        }
      ]
    },
    {
      "cell_type": "code",
      "metadata": {
        "colab": {
          "base_uri": "https://localhost:8080/"
        },
        "id": "4QcKMH_ummEW",
        "outputId": "330a356a-8769-44bd-dfec-827314fd8708"
      },
      "source": [
        "from collections import defaultdict\n",
        "colourList = [(\"Color\",\"Red\"),(\"Colour\",\"Blue\"),(\"Colour\",\"Green\"),(\"Color\",\"Yellow\")]#A list with tupples storing colour as key and colour names as values\n",
        "myColourDict = defaultdict(list)#Creating our default dict with list \n",
        "for key,value in colourList:#Running the loop\n",
        "  myColourDict[key].append(value)#For each key element in the list append the value in it (for making it a list)\n",
        "print(myColourDict)#Printing it\n",
        "#This time we have changed some of the key spelling, see what happens"
      ],
      "execution_count": null,
      "outputs": [
        {
          "output_type": "stream",
          "text": [
            "defaultdict(<class 'list'>, {'Color': ['Red', 'Yellow'], 'Colour': ['Blue', 'Green']})\n"
          ],
          "name": "stdout"
        }
      ]
    },
    {
      "cell_type": "code",
      "metadata": {
        "colab": {
          "base_uri": "https://localhost:8080/"
        },
        "id": "YB1xa0tYm_DV",
        "outputId": "d69df00c-3ef2-4456-9334-6e990f108ab8"
      },
      "source": [
        "from collections import defaultdict\n",
        "fruitList = [(\"Fruits\",\"Orange\"),(\"Fruits\",\"Banana\"),(\"Fruits\",\"Apple\"),(\"Fruits\",\"Mango\")]\n",
        "myFruitDict = defaultdict(set)\n",
        "for key,value in fruitList:\n",
        "  myFruitDict[key].add(value)\n",
        "print(myFruitDict)"
      ],
      "execution_count": null,
      "outputs": [
        {
          "output_type": "stream",
          "text": [
            "defaultdict(<class 'set'>, {'Fruits': {'Banana', 'Apple', 'Orange', 'Mango'}})\n"
          ],
          "name": "stdout"
        }
      ]
    },
    {
      "cell_type": "code",
      "metadata": {
        "colab": {
          "base_uri": "https://localhost:8080/"
        },
        "id": "Y5AmJ0TDpV1U",
        "outputId": "86dbac91-3155-44be-f31b-f018db29c3b8"
      },
      "source": [
        "#Ordered Dictionary\n",
        "from collections import OrderedDict#Importing\n",
        "rollNo = OrderedDict([#We are inputting a nested list as a parameter\n",
        "                      [\"Shivansh\",26],\n",
        "                      [\"Vivaan\",28],\n",
        "                      [\"Kanishk\",14],\n",
        "                      [\"Sahib\",24]\n",
        "])\n",
        "print(rollNo)\n",
        "rollNo[\"Shivansh\"]=4#Even if we change the value, the order will not change in ordered dictionaries, whereas it would in normal\n",
        "rollNo[\"Arav\"]=10#New Key and Value\n",
        "print(rollNo)#Printing"
      ],
      "execution_count": null,
      "outputs": [
        {
          "output_type": "stream",
          "text": [
            "OrderedDict([('Shivansh', 26), ('Vivaan', 28), ('Kanishk', 14), ('Sahib', 24)])\n",
            "OrderedDict([('Shivansh', 4), ('Vivaan', 28), ('Kanishk', 14), ('Sahib', 24), ('Arav', 10)])\n"
          ],
          "name": "stdout"
        }
      ]
    },
    {
      "cell_type": "code",
      "metadata": {
        "colab": {
          "base_uri": "https://localhost:8080/"
        },
        "id": "83_1qAxMqZrM",
        "outputId": "a996b8a0-2d94-4f94-8948-dc6214b62c9e"
      },
      "source": [
        "from collections import OrderedDict#Importing\n",
        "rollNo = OrderedDict([#We are inputting a nested list as a parameter\n",
        "                      [\"Shivansh\",26],\n",
        "                      [\"Vivaan\",28],\n",
        "                      [\"Kanishk\",14],\n",
        "                      [\"Sahib\",24]\n",
        "])\n",
        "for key,value in rollNo.items():#This is checking for every items in the nested list \n",
        "  print(key,\":\",value)#Print that respective key with its value"
      ],
      "execution_count": null,
      "outputs": [
        {
          "output_type": "stream",
          "text": [
            "Shivansh : 26\n",
            "Vivaan : 28\n",
            "Kanishk : 14\n",
            "Sahib : 24\n"
          ],
          "name": "stdout"
        }
      ]
    },
    {
      "cell_type": "code",
      "metadata": {
        "colab": {
          "base_uri": "https://localhost:8080/",
          "height": 215
        },
        "id": "6kkOmgt5rCYk",
        "outputId": "1cf0fd0c-88f5-4713-a9ff-14cbf6712bd4"
      },
      "source": [
        "#Using del keyword\n",
        "from collections import OrderedDict#Importing\n",
        "rollNo = OrderedDict([#We are inputting a nested list as a parameter\n",
        "                      [\"Shivansh\",26],\n",
        "                      [\"Vivaan\",28],\n",
        "                      [\"Kanishk\",14],\n",
        "                      [\"Sahib\",24]\n",
        "])\n",
        "del rollNo[\"Sahib\"]#This will the \"Sahib\" named key\n",
        "print(rollNo)#This will print it\n",
        "del rollNo#This will delete the entire dictionary\n",
        "print(rollNo)#This will throw an error because the dictionary name (variable name) is not defined as it is deleted"
      ],
      "execution_count": null,
      "outputs": [
        {
          "output_type": "stream",
          "text": [
            "OrderedDict([('Shivansh', 26), ('Vivaan', 28), ('Kanishk', 14)])\n"
          ],
          "name": "stdout"
        },
        {
          "output_type": "error",
          "ename": "NameError",
          "evalue": "ignored",
          "traceback": [
            "\u001b[0;31m---------------------------------------------------------------------------\u001b[0m",
            "\u001b[0;31mNameError\u001b[0m                                 Traceback (most recent call last)",
            "\u001b[0;32m<ipython-input-10-896a32c9c1a3>\u001b[0m in \u001b[0;36m<module>\u001b[0;34m()\u001b[0m\n\u001b[1;32m     10\u001b[0m \u001b[0mprint\u001b[0m\u001b[0;34m(\u001b[0m\u001b[0mrollNo\u001b[0m\u001b[0;34m)\u001b[0m\u001b[0;31m#This will print it\u001b[0m\u001b[0;34m\u001b[0m\u001b[0;34m\u001b[0m\u001b[0m\n\u001b[1;32m     11\u001b[0m \u001b[0;32mdel\u001b[0m \u001b[0mrollNo\u001b[0m\u001b[0;31m#This will delete the entire dictionary\u001b[0m\u001b[0;34m\u001b[0m\u001b[0;34m\u001b[0m\u001b[0m\n\u001b[0;32m---> 12\u001b[0;31m \u001b[0mprint\u001b[0m\u001b[0;34m(\u001b[0m\u001b[0mrollNo\u001b[0m\u001b[0;34m)\u001b[0m\u001b[0;31m#This will throw an error because the dictionary name (variable name) is not defined as it is deleted\u001b[0m\u001b[0;34m\u001b[0m\u001b[0;34m\u001b[0m\u001b[0m\n\u001b[0m",
            "\u001b[0;31mNameError\u001b[0m: name 'rollNo' is not defined"
          ]
        }
      ]
    }
  ]
}